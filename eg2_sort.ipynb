{
 "cells": [
  {
   "cell_type": "code",
   "execution_count": 4,
   "metadata": {},
   "outputs": [
    {
     "name": "stdout",
     "output_type": "stream",
     "text": [
      "[17, 20, 26, 31, 44, 54, 55, 77, 93]\n"
     ]
    }
   ],
   "source": [
    "def bubbleSort(alist):\n",
    "    exchange = True\n",
    "    for pasnum in range(len(alist)-1, 0, -1):\n",
    "        exchange = False\n",
    "        for i in range(pasnum):\n",
    "            if alist[i] > alist[i+1]:\n",
    "                exchange = True\n",
    "                alist[i], alist[i+1] = alist[i+1], alist[i]\n",
    "        if exchange == False:\n",
    "            break\n",
    "    return alist\n",
    "alist=[54,26,93,17,77,31,44,55,20]\n",
    "bubbleSort(alist)\n",
    "print(alist)"
   ]
  },
  {
   "cell_type": "code",
   "execution_count": 9,
   "metadata": {},
   "outputs": [
    {
     "name": "stdout",
     "output_type": "stream",
     "text": [
      "[17, 20, 26, 31, 44, 54, 55, 77, 93]\n"
     ]
    }
   ],
   "source": [
    "def selectionSort(alist):\n",
    "    for pasnum in range(len(alist)-1, 0, -1):\n",
    "        positionOfMax = 0\n",
    "        for location in range(1,pasnum+1):\n",
    "            if alist[location]>alist[positionOfMax]:\n",
    "                positionOfMax = location\n",
    "        alist[positionOfMax], alist[pasnum] = alist[pasnum], alist[positionOfMax]\n",
    "alist=[54,26,93,17,77,31,44,55,20]\n",
    "selectionSort(alist)\n",
    "print(alist)\n"
   ]
  },
  {
   "cell_type": "code",
   "execution_count": 12,
   "metadata": {},
   "outputs": [
    {
     "name": "stdout",
     "output_type": "stream",
     "text": [
      "[17, 20, 26, 31, 44, 54, 55, 77, 93]\n"
     ]
    }
   ],
   "source": [
    "def insertSort(alist):\n",
    "    for index in range(1,len(alist)):\n",
    "        currentValue = alist[index]\n",
    "        position = index\n",
    "        while position>0 and currentValue<alist[position-1]:\n",
    "            alist[position] = alist[position-1]\n",
    "            position -= 1\n",
    "        alist[position] = currentValue\n",
    "alist=[54,26,93,17,77,31,44,55,20]\n",
    "insertSort(alist)\n",
    "print(alist)"
   ]
  },
  {
   "cell_type": "code",
   "execution_count": 13,
   "metadata": {},
   "outputs": [
    {
     "name": "stdout",
     "output_type": "stream",
     "text": [
      "4 [20, 26, 44, 17, 54, 31, 93, 55, 77]\n",
      "2 [20, 17, 44, 26, 54, 31, 77, 55, 93]\n",
      "1 [17, 20, 26, 31, 44, 54, 55, 77, 93]\n",
      "[17, 20, 26, 31, 44, 54, 55, 77, 93]\n"
     ]
    }
   ],
   "source": [
    "# Shell sort\n",
    "def shellSort(alist):\n",
    "    sublistcount = len(alist)//2\n",
    "    while sublistcount > 0:\n",
    "        for startpoint in range(sublistcount):\n",
    "            gapInsertSort(alist, startpoint, sublistcount)\n",
    "        print(sublistcount, alist)\n",
    "        sublistcount = sublistcount//2\n",
    "\n",
    "def gapInsertSort(alist, start, gap):\n",
    "    for index in range(start+gap, len(alist), gap):\n",
    "        currentValue = alist[index]\n",
    "        position = index\n",
    "        while position >= gap and currentValue < alist[position-gap]:\n",
    "            alist[position] = alist[position-gap]\n",
    "            position -= gap\n",
    "        alist[position] = currentValue\n",
    "alist=[54,26,93,17,77,31,44,55,20]\n",
    "shellSort(alist)\n",
    "print(alist)"
   ]
  },
  {
   "cell_type": "code",
   "execution_count": 21,
   "metadata": {},
   "outputs": [
    {
     "name": "stdout",
     "output_type": "stream",
     "text": [
      "[17, 20, 26, 31, 44, 54, 55, 77, 93]\n"
     ]
    }
   ],
   "source": [
    "# Merge Sort\n",
    "def mergeSort(lst):\n",
    "    # 递归结束条件\n",
    "    if len(lst)<=1:\n",
    "        return lst\n",
    "    \n",
    "    # 分解问题，递归调用\n",
    "    middle = len(lst)//2\n",
    "    left = mergeSort(lst[:middle])\n",
    "    right = mergeSort(lst[middle:])\n",
    "\n",
    "    # 合并左右部分\n",
    "    merged = []\n",
    "    while left and right:\n",
    "        if left[0] <= right[0]:\n",
    "            merged.append(left.pop(0))\n",
    "        else:\n",
    "            merged.append(right.pop(0))\n",
    "    merged.extend(right if right else left)\n",
    "    return merged\n",
    "\n",
    "alist=[54,26,93,17,77,31,44,55,20]\n",
    "print(mergeSort(alist))"
   ]
  },
  {
   "cell_type": "code",
   "execution_count": 26,
   "metadata": {},
   "outputs": [
    {
     "name": "stdout",
     "output_type": "stream",
     "text": [
      "[17, 20, 26, 31, 44, 54, 55, 77, 93]\n"
     ]
    }
   ],
   "source": [
    "def quickSort(alist):\n",
    "    quickSortHelper(alist, 0, len(alist)-1)\n",
    "\n",
    "\n",
    "def quickSortHelper(alist, first, last):\n",
    "    if first < last:\n",
    "        splitpoint = partition(alist, first, last)  # 分拣\n",
    "        quickSortHelper(alist, first, splitpoint-1)\n",
    "        quickSortHelper(alist, splitpoint+1, last)\n",
    "\n",
    "\n",
    "def partition(alist, first, last):\n",
    "    pivotvalue = alist[first]  # 选定中值\n",
    "\n",
    "    leftmark = first + 1  # 左右标初值\n",
    "    rightmark = last\n",
    "\n",
    "    done = False\n",
    "    while not done:\n",
    "        while alist[leftmark] < pivotvalue: #左标向右移动\n",
    "            leftmark += 1\n",
    "        while alist[rightmark] > pivotvalue: #右标向左移动\n",
    "            rightmark -= 1\n",
    "        if leftmark > rightmark: #向错就跳出\n",
    "            done = True\n",
    "        else:\n",
    "            alist[leftmark], alist[rightmark] =\\\n",
    "                alist[rightmark], alist[leftmark] #左右标互换\n",
    "\n",
    "    alist[rightmark], alist[first] = alist[first], alist[rightmark] #中值互换\n",
    "    return rightmark\n",
    "\n",
    "alist=[54,26,93,17,77,31,44,55,20]\n",
    "quickSort(alist)\n",
    "print(alist)"
   ]
  }
 ],
 "metadata": {
  "interpreter": {
   "hash": "2ca16ad231f1f8b7c90b81863739eb8a8bbbf6c6d40b044643a50f643fc2e9c2"
  },
  "kernelspec": {
   "display_name": "Python 3.9.7 64-bit",
   "language": "python",
   "name": "python3"
  },
  "language_info": {
   "codemirror_mode": {
    "name": "ipython",
    "version": 3
   },
   "file_extension": ".py",
   "mimetype": "text/x-python",
   "name": "python",
   "nbconvert_exporter": "python",
   "pygments_lexer": "ipython3",
   "version": "3.9.7"
  },
  "orig_nbformat": 4
 },
 "nbformat": 4,
 "nbformat_minor": 2
}
