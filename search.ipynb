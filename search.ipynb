{
 "cells": [
  {
   "cell_type": "code",
   "execution_count": 1,
   "metadata": {},
   "outputs": [
    {
     "name": "stdout",
     "output_type": "stream",
     "text": [
      "False\n",
      "True\n"
     ]
    }
   ],
   "source": [
    "#顺序查找（无序表）\n",
    "def sequentialSearch(alist,item):\n",
    "    found = False\n",
    "    pos = 0\n",
    "    while pos<len(alist) and found==False:\n",
    "        if alist[pos] == item:\n",
    "            found = True\n",
    "        else:\n",
    "            pos += 1\n",
    "    return found\n",
    "\n",
    "testlist = [1,2,32,8,17,19,42,13,0]\n",
    "print(sequentialSearch(testlist,3))\n",
    "print(sequentialSearch(testlist,13))"
   ]
  },
  {
   "cell_type": "code",
   "execution_count": 3,
   "metadata": {},
   "outputs": [
    {
     "name": "stdout",
     "output_type": "stream",
     "text": [
      "False\n",
      "True\n"
     ]
    }
   ],
   "source": [
    "# 顺序查找（有序表）\n",
    "def orderSequentialSearch(alist,item):\n",
    "    found = False\n",
    "    pos = 0\n",
    "    stop = False\n",
    "    while pos<len(alist) and found==False:\n",
    "        if alist[pos] == item:\n",
    "            found = True\n",
    "        else:\n",
    "            if alist[pos] > item:\n",
    "                return found\n",
    "            pos += 1\n",
    "    return found\n",
    "\n",
    "testlist = [0,1,2,8,13,17,19,32,42]\n",
    "print(orderSequentialSearch(testlist,3))\n",
    "print(orderSequentialSearch(testlist,13))"
   ]
  },
  {
   "cell_type": "code",
   "execution_count": 4,
   "metadata": {},
   "outputs": [
    {
     "name": "stdout",
     "output_type": "stream",
     "text": [
      "False\n",
      "True\n"
     ]
    }
   ],
   "source": [
    "# 二分查找\n",
    "def binarySearch(alist, item):\n",
    "    first = 0\n",
    "    last = len(alist)-1\n",
    "    found = False\n",
    "    while first <= last and found == False:\n",
    "        midpoint = (first+last)//2\n",
    "        if alist[midpoint] == item:\n",
    "            found = True\n",
    "        elif alist[midpoint] > item:\n",
    "            last = midpoint - 1\n",
    "        else:\n",
    "            first = midpoint + 1\n",
    "    return found\n",
    "\n",
    "\n",
    "testlist = [0, 1, 2, 8, 13, 17, 19, 32, 42]\n",
    "print(binarySearch(testlist, 3))\n",
    "print(binarySearch(testlist, 13))\n"
   ]
  },
  {
   "cell_type": "code",
   "execution_count": 14,
   "metadata": {},
   "outputs": [
    {
     "name": "stdout",
     "output_type": "stream",
     "text": [
      "False\n",
      "True\n"
     ]
    }
   ],
   "source": [
    "# 二分查找（递归）\n",
    "def binarySearch(alist, item):\n",
    "    if len(alist) == 0:\n",
    "        return False\n",
    "    else:\n",
    "        midpoint = len(alist)//2\n",
    "        if alist[midpoint]==item:\n",
    "            return True\n",
    "        elif alist[midpoint]>item:\n",
    "            return binarySearch(alist[:midpoint-1],item)\n",
    "        else:\n",
    "            return binarySearch(alist[midpoint+1:],item)\n",
    "\n",
    "testlist = [0, 1, 2, 8, 13, 17, 19, 32, 42]\n",
    "print(binarySearch(testlist, 3))\n",
    "print(binarySearch(testlist, 13))"
   ]
  }
 ],
 "metadata": {
  "interpreter": {
   "hash": "2ca16ad231f1f8b7c90b81863739eb8a8bbbf6c6d40b044643a50f643fc2e9c2"
  },
  "kernelspec": {
   "display_name": "Python 3.9.7 64-bit",
   "language": "python",
   "name": "python3"
  },
  "language_info": {
   "codemirror_mode": {
    "name": "ipython",
    "version": 3
   },
   "file_extension": ".py",
   "mimetype": "text/x-python",
   "name": "python",
   "nbconvert_exporter": "python",
   "pygments_lexer": "ipython3",
   "version": "3.9.7"
  },
  "orig_nbformat": 4
 },
 "nbformat": 4,
 "nbformat_minor": 2
}
