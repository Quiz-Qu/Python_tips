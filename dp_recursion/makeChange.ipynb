{
 "cells": [
  {
   "cell_type": "code",
   "execution_count": 3,
   "metadata": {},
   "outputs": [
    {
     "name": "stdout",
     "output_type": "stream",
     "text": [
      "3\n"
     ]
    }
   ],
   "source": [
    "def dpMakeChange(coinValueList, change, minCoins):\n",
    "    for cents in range(1, change + 1):\n",
    "        coinCounts = cents #所需的最少数量\n",
    "        for j in [c for c in coinValueList if c <= cents]:\n",
    "            if minCoins[cents - j] + 1 < coinCounts:\n",
    "                coinCounts = minCoins[cents - j] + 1\n",
    "        minCoins[cents] = coinCounts #记录表格\n",
    "    return minCoins[change]\n",
    "\n",
    "print(dpMakeChange([1, 5, 10, 21, 25], 63, [0]*64))"
   ]
  },
  {
   "cell_type": "code",
   "execution_count": 4,
   "metadata": {},
   "outputs": [
    {
     "name": "stdout",
     "output_type": "stream",
     "text": [
      "<class 'dict'>\n",
      "1\n"
     ]
    }
   ],
   "source": [
    "# class set and dict\n",
    "tr = {(2,3),(3,4)}\n",
    "tr = {}\n",
    "tr[(2,3)] = 1\n",
    "print(type(tr))\n",
    "# print(tuple(tr))\n",
    "print(tr[2,3])"
   ]
  },
  {
   "cell_type": "code",
   "execution_count": 10,
   "metadata": {},
   "outputs": [
    {
     "name": "stdout",
     "output_type": "stream",
     "text": [
      "3\n",
      "21\n",
      "21\n",
      "21\n",
      "[0, 1, 1, 1, 1, 5, 1, 1, 1, 1, 10, 1, 1, 1, 1, 5, 1, 1, 1, 1, 10, 21, 1, 1, 1, 25, 1, 1, 1, 1, 5, 10, 1, 1, 1, 10, 1, 1, 1, 1, 5, 10, 21, 1, 1, 10, 21, 1, 1, 1, 25, 1, 10, 1, 1, 5, 10, 1, 1, 1, 10, 1, 10, 21]\n"
     ]
    }
   ],
   "source": [
    "def dpMakeChange(coinValueList, change, minCoins, coinUsed):\n",
    "    for cents in range(1, change + 1):\n",
    "        coinCounts = cents #所需的最少数量\n",
    "        newcoin = 1\n",
    "        for j in [c for c in coinValueList if c <= cents]:\n",
    "            if minCoins[cents - j] + 1 < coinCounts:\n",
    "                coinCounts = minCoins[cents - j] + 1\n",
    "                newcoin = j\n",
    "        minCoins[cents] = coinCounts #记录表格\n",
    "        coinUsed[cents] = newcoin\n",
    "    return minCoins[change]\n",
    "\n",
    "def printCoins(coinUsed, change):\n",
    "    coin = change\n",
    "    while coin > 0:\n",
    "        thiscoin = coinUsed[coin]\n",
    "        print(thiscoin)\n",
    "        coin = coin - thiscoin\n",
    "amnt = 63\n",
    "clist = [1, 5, 10, 21, 25]\n",
    "coinUsed = [0]*(amnt+1)\n",
    "coinCount = [0]*(amnt+1)\n",
    "print(dpMakeChange(clist, amnt, coinCount, coinUsed))\n",
    "printCoins(coinUsed, amnt)\n",
    "print(coinUsed)"
   ]
  },
  {
   "cell_type": "code",
   "execution_count": 9,
   "metadata": {},
   "outputs": [
    {
     "name": "stdout",
     "output_type": "stream",
     "text": [
      "[1, 1]\n",
      "2\n",
      "[0, 1]\n"
     ]
    }
   ],
   "source": [
    "# properties of function \n",
    "b = 1\n",
    "c = [1,1]\n",
    "# print(b)\n",
    "print(c)\n",
    "def func(a):\n",
    "    # b = 2\n",
    "    # print(b)\n",
    "    c[0] = 0\n",
    "    return a+b\n",
    "print(func(1))\n",
    "# print(b)\n",
    "print(c)"
   ]
  },
  {
   "cell_type": "code",
   "execution_count": null,
   "metadata": {},
   "outputs": [],
   "source": []
  }
 ],
 "metadata": {
  "interpreter": {
   "hash": "2ca16ad231f1f8b7c90b81863739eb8a8bbbf6c6d40b044643a50f643fc2e9c2"
  },
  "kernelspec": {
   "display_name": "Python 3.9.7 64-bit",
   "language": "python",
   "name": "python3"
  },
  "language_info": {
   "codemirror_mode": {
    "name": "ipython",
    "version": 3
   },
   "file_extension": ".py",
   "mimetype": "text/x-python",
   "name": "python",
   "nbconvert_exporter": "python",
   "pygments_lexer": "ipython3",
   "version": "3.9.7"
  },
  "orig_nbformat": 4
 },
 "nbformat": 4,
 "nbformat_minor": 2
}
